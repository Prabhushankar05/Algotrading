{
  "nbformat": 4,
  "nbformat_minor": 0,
  "metadata": {
    "colab": {
      "provenance": []
    },
    "kernelspec": {
      "name": "python3",
      "display_name": "Python 3"
    },
    "language_info": {
      "name": "python"
    }
  },
  "cells": [
    {
      "cell_type": "code",
      "execution_count": 99,
      "metadata": {
        "colab": {
          "base_uri": "https://localhost:8080/"
        },
        "id": "EitP353pS3ox",
        "outputId": "34486b1a-4400-481f-e7e9-9cbc41e66442"
      },
      "outputs": [
        {
          "output_type": "stream",
          "name": "stdout",
          "text": [
            "Requirement already satisfied: pandas_ta in /usr/local/lib/python3.10/dist-packages (0.3.14b0)\n",
            "Requirement already satisfied: pandas in /usr/local/lib/python3.10/dist-packages (from pandas_ta) (2.0.3)\n",
            "Requirement already satisfied: python-dateutil>=2.8.2 in /usr/local/lib/python3.10/dist-packages (from pandas->pandas_ta) (2.8.2)\n",
            "Requirement already satisfied: pytz>=2020.1 in /usr/local/lib/python3.10/dist-packages (from pandas->pandas_ta) (2023.4)\n",
            "Requirement already satisfied: tzdata>=2022.1 in /usr/local/lib/python3.10/dist-packages (from pandas->pandas_ta) (2024.1)\n",
            "Requirement already satisfied: numpy>=1.21.0 in /usr/local/lib/python3.10/dist-packages (from pandas->pandas_ta) (1.25.2)\n",
            "Requirement already satisfied: six>=1.5 in /usr/local/lib/python3.10/dist-packages (from python-dateutil>=2.8.2->pandas->pandas_ta) (1.16.0)\n",
            "Requirement already satisfied: PyPortfolioOpt in /usr/local/lib/python3.10/dist-packages (1.5.5)\n",
            "Requirement already satisfied: cvxpy<2.0.0,>=1.1.19 in /usr/local/lib/python3.10/dist-packages (from PyPortfolioOpt) (1.3.3)\n",
            "Requirement already satisfied: numpy<2.0.0,>=1.22.4 in /usr/local/lib/python3.10/dist-packages (from PyPortfolioOpt) (1.25.2)\n",
            "Requirement already satisfied: pandas>=0.19 in /usr/local/lib/python3.10/dist-packages (from PyPortfolioOpt) (2.0.3)\n",
            "Requirement already satisfied: scipy<2.0,>=1.3 in /usr/local/lib/python3.10/dist-packages (from PyPortfolioOpt) (1.11.4)\n",
            "Requirement already satisfied: osqp>=0.4.1 in /usr/local/lib/python3.10/dist-packages (from cvxpy<2.0.0,>=1.1.19->PyPortfolioOpt) (0.6.2.post8)\n",
            "Requirement already satisfied: ecos>=2 in /usr/local/lib/python3.10/dist-packages (from cvxpy<2.0.0,>=1.1.19->PyPortfolioOpt) (2.0.13)\n",
            "Requirement already satisfied: scs>=1.1.6 in /usr/local/lib/python3.10/dist-packages (from cvxpy<2.0.0,>=1.1.19->PyPortfolioOpt) (3.2.4.post1)\n",
            "Requirement already satisfied: setuptools>65.5.1 in /usr/local/lib/python3.10/dist-packages (from cvxpy<2.0.0,>=1.1.19->PyPortfolioOpt) (67.7.2)\n",
            "Requirement already satisfied: python-dateutil>=2.8.2 in /usr/local/lib/python3.10/dist-packages (from pandas>=0.19->PyPortfolioOpt) (2.8.2)\n",
            "Requirement already satisfied: pytz>=2020.1 in /usr/local/lib/python3.10/dist-packages (from pandas>=0.19->PyPortfolioOpt) (2023.4)\n",
            "Requirement already satisfied: tzdata>=2022.1 in /usr/local/lib/python3.10/dist-packages (from pandas>=0.19->PyPortfolioOpt) (2024.1)\n",
            "Requirement already satisfied: qdldl in /usr/local/lib/python3.10/dist-packages (from osqp>=0.4.1->cvxpy<2.0.0,>=1.1.19->PyPortfolioOpt) (0.1.7.post0)\n",
            "Requirement already satisfied: six>=1.5 in /usr/local/lib/python3.10/dist-packages (from python-dateutil>=2.8.2->pandas>=0.19->PyPortfolioOpt) (1.16.0)\n"
          ]
        },
        {
          "output_type": "stream",
          "name": "stderr",
          "text": [
            "[*********************100%%**********************]  503 of 503 completed\n",
            "ERROR:yfinance:\n",
            "2 Failed downloads:\n",
            "ERROR:yfinance:['SOLV', 'GEV']: Exception(\"%ticker%: Data doesn't exist for startDate = 1459569600, endDate = 1711857600\")\n"
          ]
        }
      ],
      "source": [
        "from statsmodels.regression.rolling import RollingOLS\n",
        "import pandas_datareader.data as web\n",
        "import matplotlib.pyplot as plt\n",
        "import statsmodels.api as sm\n",
        "import pandas as pd\n",
        "import numpy as np\n",
        "import datetime as dt\n",
        "import yfinance as yf\n",
        "!pip install pandas_ta\n",
        "!pip install PyPortfolioOpt\n",
        "import pandas_ta\n",
        "import warnings\n",
        "warnings.filterwarnings('ignore')\n",
        "\n",
        "sp500 = pd.read_html('https://en.wikipedia.org/wiki/List_of_S%26P_500_companies')[0]\n",
        "\n",
        "sp500['Symbol'] = sp500['Symbol'].str.replace('.', '-')\n",
        "\n",
        "symbols_list = sp500['Symbol'].unique().tolist()\n",
        "\n",
        "end_date = '2024-03-31'\n",
        "\n",
        "start_date = pd.to_datetime(end_date)-pd.DateOffset(365*8)\n",
        "\n",
        "df = yf.download(tickers=symbols_list,\n",
        "                 start=start_date,\n",
        "                 end=end_date).stack()\n",
        "\n",
        "df.index.names = ['date', 'ticker']\n",
        "\n",
        "df.columns = df.columns.str.lower()\n"
      ]
    },
    {
      "cell_type": "code",
      "source": [
        "df['garman_klass_vol'] = ((np.log(df['high'])-np.log(df['low']))**2)/2-(2*np.log(2)-1)*((np.log(df['adj close'])-np.log(df['open']))**2)\n",
        "\n",
        "df['rsi'] = df.groupby(level=1)['adj close'].transform(lambda x: pandas_ta.rsi(close=x, length=20))\n",
        "\n",
        "df['bb_low'] = df.groupby(level=1)['adj close'].transform(lambda x: pandas_ta.bbands(close=np.log1p(x), length=20).iloc[:,0])\n",
        "\n",
        "df['bb_mid'] = df.groupby(level=1)['adj close'].transform(lambda x: pandas_ta.bbands(close=np.log1p(x), length=20).iloc[:,1])\n",
        "\n",
        "df['bb_high'] = df.groupby(level=1)['adj close'].transform(lambda x: pandas_ta.bbands(close=np.log1p(x), length=20).iloc[:,2])\n",
        "\n",
        "def compute_atr(stock_data):\n",
        "    atr = pandas_ta.atr(high=stock_data['high'],\n",
        "                        low=stock_data['low'],\n",
        "                        close=stock_data['close'],\n",
        "                        length=14)\n",
        "    return atr.sub(atr.mean()).div(atr.std())\n",
        "\n",
        "df['atr'] = df.groupby(level=1, group_keys=False).apply(compute_atr)\n",
        "\n",
        "def compute_macd(close):\n",
        "    macd = pandas_ta.macd(close=close, length=20).iloc[:,0]\n",
        "    return macd.sub(macd.mean()).div(macd.std())\n",
        "\n",
        "df['macd'] = df.groupby(level=1, group_keys=False)['adj close'].apply(compute_macd)\n",
        "\n",
        "df['dollar_volume'] = (df['adj close']*df['volume'])/1e6"
      ],
      "metadata": {
        "id": "qWxMWXiYS59w"
      },
      "execution_count": 100,
      "outputs": []
    },
    {
      "cell_type": "code",
      "source": [
        "last_cols = [c for c in df.columns.unique(0) if c not in ['dollar_volume', 'volume', 'open',\n",
        "                                                          'high', 'low', 'close']]\n",
        "\n",
        "data = (pd.concat([df.unstack('ticker')['dollar_volume'].resample('M').mean().stack('ticker').to_frame('dollar_volume'),\n",
        "                   df.unstack()[last_cols].resample('M').last().stack('ticker')],\n",
        "                  axis=1)).dropna()"
      ],
      "metadata": {
        "id": "TymG0T2fTBoT"
      },
      "execution_count": 101,
      "outputs": []
    },
    {
      "cell_type": "code",
      "source": [
        "data['dollar_volume'] = (data.loc[:, 'dollar_volume'].unstack('ticker').rolling(5*12, min_periods=12).mean().stack())\n",
        "\n",
        "data['dollar_vol_rank'] = (data.groupby('date')['dollar_volume'].rank(ascending=False))\n",
        "\n",
        "data = data[data['dollar_vol_rank']<150].drop(['dollar_volume', 'dollar_vol_rank'], axis=1)\n"
      ],
      "metadata": {
        "id": "UZiTflxxTivn"
      },
      "execution_count": 102,
      "outputs": []
    },
    {
      "cell_type": "code",
      "source": [
        "def calculate_returns(df):\n",
        "\n",
        "    outlier_cutoff = 0.005\n",
        "\n",
        "    lags = [1, 2, 3, 6, 9, 12]\n",
        "\n",
        "    for lag in lags:\n",
        "\n",
        "        df[f'return_{lag}m'] = (df['adj close']\n",
        "                              .pct_change(lag)\n",
        "                              .pipe(lambda x: x.clip(lower=x.quantile(outlier_cutoff),\n",
        "                                                     upper=x.quantile(1-outlier_cutoff)))\n",
        "                              .add(1)\n",
        "                              .pow(1/lag)\n",
        "                              .sub(1))\n",
        "    return df\n",
        "\n",
        "\n",
        "data = data.groupby(level=1, group_keys=False).apply(calculate_returns).dropna()\n"
      ],
      "metadata": {
        "id": "P_6hBBFvTk93"
      },
      "execution_count": 103,
      "outputs": []
    },
    {
      "cell_type": "code",
      "source": [
        "factor_data = web.DataReader('F-F_Research_Data_5_Factors_2x3',\n",
        "                               'famafrench',\n",
        "                               start='2010')[0].drop('RF', axis=1)\n",
        "\n",
        "factor_data.index = factor_data.index.to_timestamp()\n",
        "\n",
        "factor_data = factor_data.resample('M').last().div(100)\n",
        "\n",
        "factor_data.index.name = 'date'\n",
        "\n",
        "factor_data = factor_data.join(data['return_1m']).sort_index()"
      ],
      "metadata": {
        "id": "lUIba2ZKTmIK"
      },
      "execution_count": 104,
      "outputs": []
    },
    {
      "cell_type": "code",
      "source": [
        "observations = factor_data.groupby(level=1).size()\n",
        "\n",
        "valid_stocks = observations[observations >= 10]\n",
        "\n",
        "factor_data = factor_data[factor_data.index.get_level_values('ticker').isin(valid_stocks.index)]"
      ],
      "metadata": {
        "id": "W54WCZGmTnzo"
      },
      "execution_count": 105,
      "outputs": []
    },
    {
      "cell_type": "code",
      "source": [
        "betas = (factor_data.groupby(level=1,\n",
        "                            group_keys=False)\n",
        "         .apply(lambda x: RollingOLS(endog=x['return_1m'],\n",
        "                                     exog=sm.add_constant(x.drop('return_1m', axis=1)),\n",
        "                                     window=min(24, x.shape[0]),\n",
        "                                     min_nobs=len(x.columns)+1)\n",
        "         .fit(params_only=True)\n",
        "         .params\n",
        "         .drop('const', axis=1)))\n"
      ],
      "metadata": {
        "id": "RnGKE0xNTpCs"
      },
      "execution_count": 106,
      "outputs": []
    },
    {
      "cell_type": "code",
      "source": [
        "factors = ['Mkt-RF', 'SMB', 'HML', 'RMW', 'CMA']\n",
        "\n",
        "data = (data.join(betas.groupby('ticker').shift()))\n",
        "\n",
        "data.loc[:, factors] = data.groupby('ticker', group_keys=False)[factors].apply(lambda x: x.fillna(x.mean()))\n",
        "\n",
        "data = data.drop('adj close', axis=1)\n",
        "\n",
        "data = data.dropna()\n",
        "\n",
        "data.info()"
      ],
      "metadata": {
        "colab": {
          "base_uri": "https://localhost:8080/"
        },
        "id": "oOQA4v_cTqKD",
        "outputId": "00a7a259-a3aa-4f7a-d350-c060690fc684"
      },
      "execution_count": 107,
      "outputs": [
        {
          "output_type": "stream",
          "name": "stdout",
          "text": [
            "<class 'pandas.core.frame.DataFrame'>\n",
            "MultiIndex: 10196 entries, (Timestamp('2018-04-30 00:00:00'), 'AAL') to (Timestamp('2024-03-31 00:00:00'), 'UBER')\n",
            "Data columns (total 18 columns):\n",
            " #   Column            Non-Null Count  Dtype  \n",
            "---  ------            --------------  -----  \n",
            " 0   atr               10196 non-null  float64\n",
            " 1   bb_high           10196 non-null  float64\n",
            " 2   bb_low            10196 non-null  float64\n",
            " 3   bb_mid            10196 non-null  float64\n",
            " 4   garman_klass_vol  10196 non-null  float64\n",
            " 5   macd              10196 non-null  float64\n",
            " 6   rsi               10196 non-null  float64\n",
            " 7   return_1m         10196 non-null  float64\n",
            " 8   return_2m         10196 non-null  float64\n",
            " 9   return_3m         10196 non-null  float64\n",
            " 10  return_6m         10196 non-null  float64\n",
            " 11  return_9m         10196 non-null  float64\n",
            " 12  return_12m        10196 non-null  float64\n",
            " 13  Mkt-RF            10196 non-null  float64\n",
            " 14  SMB               10196 non-null  float64\n",
            " 15  HML               10196 non-null  float64\n",
            " 16  RMW               10196 non-null  float64\n",
            " 17  CMA               10196 non-null  float64\n",
            "dtypes: float64(18)\n",
            "memory usage: 1.5+ MB\n"
          ]
        }
      ]
    },
    {
      "cell_type": "code",
      "source": [
        "data.loc[:, factors] = data.groupby('ticker', group_keys=False)[factors].apply(lambda x: x.fillna(x.mean()))\n",
        "\n",
        "data = data.dropna()\n",
        "\n",
        "data.info()"
      ],
      "metadata": {
        "colab": {
          "base_uri": "https://localhost:8080/"
        },
        "id": "1B_Rn_s2TrGN",
        "outputId": "73775f8d-647d-440a-ebb7-9d67c44c3ace"
      },
      "execution_count": 108,
      "outputs": [
        {
          "output_type": "stream",
          "name": "stdout",
          "text": [
            "<class 'pandas.core.frame.DataFrame'>\n",
            "MultiIndex: 10196 entries, (Timestamp('2018-04-30 00:00:00'), 'AAL') to (Timestamp('2024-03-31 00:00:00'), 'UBER')\n",
            "Data columns (total 18 columns):\n",
            " #   Column            Non-Null Count  Dtype  \n",
            "---  ------            --------------  -----  \n",
            " 0   atr               10196 non-null  float64\n",
            " 1   bb_high           10196 non-null  float64\n",
            " 2   bb_low            10196 non-null  float64\n",
            " 3   bb_mid            10196 non-null  float64\n",
            " 4   garman_klass_vol  10196 non-null  float64\n",
            " 5   macd              10196 non-null  float64\n",
            " 6   rsi               10196 non-null  float64\n",
            " 7   return_1m         10196 non-null  float64\n",
            " 8   return_2m         10196 non-null  float64\n",
            " 9   return_3m         10196 non-null  float64\n",
            " 10  return_6m         10196 non-null  float64\n",
            " 11  return_9m         10196 non-null  float64\n",
            " 12  return_12m        10196 non-null  float64\n",
            " 13  Mkt-RF            10196 non-null  float64\n",
            " 14  SMB               10196 non-null  float64\n",
            " 15  HML               10196 non-null  float64\n",
            " 16  RMW               10196 non-null  float64\n",
            " 17  CMA               10196 non-null  float64\n",
            "dtypes: float64(18)\n",
            "memory usage: 1.5+ MB\n"
          ]
        }
      ]
    },
    {
      "cell_type": "code",
      "source": [
        "target_rsi_values = [30, 45, 55, 70]\n",
        "\n",
        "initial_centroids = np.zeros((len(target_rsi_values), 18))\n",
        "\n",
        "initial_centroids[:, 6] = target_rsi_values"
      ],
      "metadata": {
        "id": "261LfuixTsjK"
      },
      "execution_count": 109,
      "outputs": []
    },
    {
      "cell_type": "code",
      "source": [
        "import sklearn\n",
        "from sklearn.cluster import KMeans\n",
        "\n",
        "def get_clusters(df):\n",
        "    df['cluster'] = KMeans(n_clusters = 4,\n",
        "                          random_state = 0,\n",
        "                          init = initial_centroids).fit(df).labels_\n",
        "    return df\n",
        "\n",
        "data = data.dropna().groupby('date', group_keys = False).apply(get_clusters)"
      ],
      "metadata": {
        "id": "rHgclBdcTtz_"
      },
      "execution_count": 110,
      "outputs": []
    },
    {
      "cell_type": "code",
      "source": [
        "def plot_clusters(data):\n",
        "\n",
        "    cluster_0 = data[data['cluster']==0]\n",
        "    cluster_1 = data[data['cluster']==1]\n",
        "    cluster_2 = data[data['cluster']==2]\n",
        "    cluster_3 = data[data['cluster']==3]\n",
        "\n",
        "    plt.scatter(cluster_0.iloc[:,0] , cluster_0.iloc[:,6] , color = 'red', label='cluster 0')\n",
        "    plt.scatter(cluster_1.iloc[:,0] , cluster_1.iloc[:,6] , color = 'green', label='cluster 1')\n",
        "    plt.scatter(cluster_2.iloc[:,0] , cluster_2.iloc[:,6] , color = 'blue', label='cluster 2')\n",
        "    plt.scatter(cluster_3.iloc[:,0] , cluster_3.iloc[:,6] , color = 'black', label='cluster 3')\n",
        "\n",
        "    plt.legend()\n",
        "    plt.show()\n",
        "    return"
      ],
      "metadata": {
        "id": "O11IcsVTTutw"
      },
      "execution_count": 111,
      "outputs": []
    },
    {
      "cell_type": "code",
      "source": [
        "# plt.style.use('ggplot')\n",
        "\n",
        "# for i in data.index.get_level_values('date').unique().tolist():\n",
        "#     g = data.xs(i, level = 0)\n",
        "#     plt.title(f'Date {i}')\n",
        "#     plot_clusters(g)"
      ],
      "metadata": {
        "id": "DKQ28UvVTvgj"
      },
      "execution_count": 31,
      "outputs": []
    },
    {
      "cell_type": "code",
      "source": [
        "filtered_df = data[data['cluster']==3].copy()\n",
        "\n",
        "filtered_df = filtered_df.reset_index(level=1)\n",
        "\n",
        "filtered_df.index = filtered_df.index+pd.DateOffset(1)\n",
        "\n",
        "filtered_df = filtered_df.reset_index().set_index(['date', 'ticker'])\n",
        "\n",
        "dates = filtered_df.index.get_level_values('date').unique().tolist()\n",
        "\n",
        "\n",
        "fixed_dates = {}\n",
        "\n",
        "for d in dates:\n",
        "\n",
        "    fixed_dates[d.strftime('%Y-%m-%d')] = filtered_df.xs(d, level=0).index.tolist()\n"
      ],
      "metadata": {
        "id": "acl3j-xHTx19"
      },
      "execution_count": 112,
      "outputs": []
    },
    {
      "cell_type": "code",
      "source": [
        "from pypfopt.efficient_frontier import EfficientFrontier\n",
        "from pypfopt import risk_models\n",
        "from pypfopt import expected_returns\n",
        "\n",
        "def optimize_weights(prices, lower_bound=0):\n",
        "\n",
        "    returns = expected_returns.mean_historical_return(prices=prices,\n",
        "                                                      frequency=252)\n",
        "\n",
        "    cov = risk_models.sample_cov(prices=prices,\n",
        "                                 frequency=252)\n",
        "\n",
        "    ef = EfficientFrontier(expected_returns=returns,\n",
        "                           cov_matrix=cov,\n",
        "                           weight_bounds=(lower_bound, .1),\n",
        "                           solver='SCS')\n",
        "\n",
        "    weights = ef.max_sharpe()\n",
        "\n",
        "    return ef.clean_weights()"
      ],
      "metadata": {
        "id": "pFbsOagOT06T"
      },
      "execution_count": 113,
      "outputs": []
    },
    {
      "cell_type": "code",
      "source": [
        "stocks = data.index.get_level_values('ticker').unique().tolist()\n",
        "\n",
        "new_df = yf.download(tickers=stocks,\n",
        "                     start=data.index.get_level_values('date').unique()[0]-pd.DateOffset(months=12),\n",
        "                     end=data.index.get_level_values('date').unique()[-1])"
      ],
      "metadata": {
        "colab": {
          "base_uri": "https://localhost:8080/"
        },
        "id": "G3CU4tY3T8QQ",
        "outputId": "765c732a-c3a9-4c22-f18b-5f189ddecb35"
      },
      "execution_count": 114,
      "outputs": [
        {
          "output_type": "stream",
          "name": "stderr",
          "text": [
            "[*********************100%%**********************]  157 of 157 completed\n"
          ]
        }
      ]
    },
    {
      "cell_type": "code",
      "source": [
        "# returns_dataframe = np.log(new_df['Adj Close']).diff()\n",
        "\n",
        "portfolio_df = pd.DataFrame()\n",
        "\n",
        "for start_date in fixed_dates.keys():\n",
        "  end_date = (pd.to_datetime(start_date) + pd.offsets.MonthEnd(0)).strftime('%Y-%m=%d')\n",
        "\n",
        "  cols = fixed_dates[start_date]\n",
        "\n",
        "  optimization_start_date = (pd.to_datetime(start_date) - pd.DateOffset(months=12))\n",
        "\n",
        "  optimization_end_date = (pd.to_datetime(start_date) - pd.DateOffset(days=1))\n",
        "\n",
        "  optimization_df = new_df[optimization_start_date:optimization_end_date]['Adj Close'][fixed_dates['2018-05-31']]\n",
        "\n",
        "  weights = optimize_weights(prices = optimization_df,\n",
        "                                   lower_bound=round(1/(len(optimization_df.columns)*2),3))\n",
        "\n",
        "  weights = pd.DataFrame(weights, index=pd.Series(0))\n",
        "\n",
        "  temp_df = returns_dataframe[start_date:end_date]\n",
        "\n",
        "  temp_df.stack().to_frame('return').reset_index(level = 0)\\\n",
        "          .merge(weights.stack().to_frame('weight').reset_index(level = 0, drop = True),\n",
        "                left_index = True,\n",
        "                right_index = True)\\\n",
        "          .reset_index().set_index(['Date', 'Ticker']).unstack().stack()\n",
        "\n",
        "\n",
        "\n",
        "\n"
      ],
      "metadata": {
        "colab": {
          "base_uri": "https://localhost:8080/",
          "height": 228
        },
        "id": "sM5hxEih0b6u",
        "outputId": "bff17ff3-7f2c-4f1e-e83f-e96c0a53829a"
      },
      "execution_count": 121,
      "outputs": [
        {
          "output_type": "error",
          "ename": "KeyError",
          "evalue": "'2018-05-31'",
          "traceback": [
            "\u001b[0;31m---------------------------------------------------------------------------\u001b[0m",
            "\u001b[0;31mKeyError\u001b[0m                                  Traceback (most recent call last)",
            "\u001b[0;32m<ipython-input-121-0bd209f0138c>\u001b[0m in \u001b[0;36m<cell line: 5>\u001b[0;34m()\u001b[0m\n\u001b[1;32m     12\u001b[0m   \u001b[0moptimization_end_date\u001b[0m \u001b[0;34m=\u001b[0m \u001b[0;34m(\u001b[0m\u001b[0mpd\u001b[0m\u001b[0;34m.\u001b[0m\u001b[0mto_datetime\u001b[0m\u001b[0;34m(\u001b[0m\u001b[0mstart_date\u001b[0m\u001b[0;34m)\u001b[0m \u001b[0;34m-\u001b[0m \u001b[0mpd\u001b[0m\u001b[0;34m.\u001b[0m\u001b[0mDateOffset\u001b[0m\u001b[0;34m(\u001b[0m\u001b[0mdays\u001b[0m\u001b[0;34m=\u001b[0m\u001b[0;36m1\u001b[0m\u001b[0;34m)\u001b[0m\u001b[0;34m)\u001b[0m\u001b[0;34m\u001b[0m\u001b[0;34m\u001b[0m\u001b[0m\n\u001b[1;32m     13\u001b[0m \u001b[0;34m\u001b[0m\u001b[0m\n\u001b[0;32m---> 14\u001b[0;31m   \u001b[0moptimization_df\u001b[0m \u001b[0;34m=\u001b[0m \u001b[0mnew_df\u001b[0m\u001b[0;34m[\u001b[0m\u001b[0moptimization_start_date\u001b[0m\u001b[0;34m:\u001b[0m\u001b[0moptimization_end_date\u001b[0m\u001b[0;34m]\u001b[0m\u001b[0;34m[\u001b[0m\u001b[0;34m'Adj Close'\u001b[0m\u001b[0;34m]\u001b[0m\u001b[0;34m[\u001b[0m\u001b[0mfixed_dates\u001b[0m\u001b[0;34m[\u001b[0m\u001b[0;34m'2018-05-31'\u001b[0m\u001b[0;34m]\u001b[0m\u001b[0;34m]\u001b[0m\u001b[0;34m\u001b[0m\u001b[0;34m\u001b[0m\u001b[0m\n\u001b[0m\u001b[1;32m     15\u001b[0m \u001b[0;34m\u001b[0m\u001b[0m\n\u001b[1;32m     16\u001b[0m   weights = optimize_weights(prices = optimization_df,\n",
            "\u001b[0;31mKeyError\u001b[0m: '2018-05-31'"
          ]
        }
      ]
    },
    {
      "cell_type": "code",
      "source": [],
      "metadata": {
        "id": "NH1uve0D7Uz9"
      },
      "execution_count": 121,
      "outputs": []
    },
    {
      "cell_type": "code",
      "source": [],
      "metadata": {
        "id": "jX0CdImP8ZuA"
      },
      "execution_count": 121,
      "outputs": []
    },
    {
      "cell_type": "code",
      "source": [],
      "metadata": {
        "id": "o8f83m7-5TdM"
      },
      "execution_count": 121,
      "outputs": []
    },
    {
      "cell_type": "code",
      "source": [],
      "metadata": {
        "colab": {
          "base_uri": "https://localhost:8080/",
          "height": 35
        },
        "id": "z3tldCvGFFCA",
        "outputId": "04a2e3e3-26c1-4362-ddcf-d8fe7d120f83"
      },
      "execution_count": 97,
      "outputs": [
        {
          "output_type": "execute_result",
          "data": {
            "text/plain": [
              "'2023-10-01'"
            ],
            "application/vnd.google.colaboratory.intrinsic+json": {
              "type": "string"
            }
          },
          "metadata": {},
          "execution_count": 97
        }
      ]
    },
    {
      "cell_type": "markdown",
      "source": [],
      "metadata": {
        "id": "1F0a1kV7fKP9"
      }
    },
    {
      "cell_type": "code",
      "source": [
        "returns_dataframe = np.log(new_df['Adj Close']).diff()\n",
        "\n",
        "portfolio_df = pd.DataFrame()\n",
        "\n",
        "for start_date in fixed_dates.keys():\n",
        "\n",
        "    try:\n",
        "\n",
        "        end_date = (pd.to_datetime(start_date)+pd.offsets.MonthEnd(0)).strftime('%Y-%m-%d')\n",
        "\n",
        "        cols = fixed_dates[start_date]\n",
        "\n",
        "        optimization_start_date = (pd.to_datetime(start_date)-pd.DateOffset(months=12)).strftime('%Y-%m-%d')\n",
        "\n",
        "        optimization_end_date = (pd.to_datetime(start_date)-pd.DateOffset(days=1)).strftime('%Y-%m-%d')\n",
        "\n",
        "        optimization_df = new_df[optimization_start_date:optimization_end_date]['Adj Close'][cols]\n",
        "\n",
        "        success = False\n",
        "        try:\n",
        "            weights = optimize_weights(prices=optimization_df,\n",
        "                                   lower_bound=round(1/(len(optimization_df.columns)*2),3))\n",
        "\n",
        "            weights = pd.DataFrame(weights, index=pd.Series(0))\n",
        "\n",
        "            success = True\n",
        "        except:\n",
        "            print(f'Max Sharpe Optimization failed for {start_date}, Continuing with Equal-Weights')\n",
        "\n",
        "        if success==False:\n",
        "            weights = pd.DataFrame([1/len(optimization_df.columns) for i in range(len(optimization_df.columns))],\n",
        "                                     index=optimization_df.columns.tolist(),\n",
        "                                     columns=pd.Series(0)).T\n",
        "\n",
        "        temp_df = returns_dataframe[start_date:end_date]\n",
        "\n",
        "        temp_df = temp_df.stack().to_frame('return').reset_index(level=0)\\\n",
        "                   .merge(weights.stack().to_frame('weight').reset_index(level=0, drop=True),\n",
        "                          left_index=True,\n",
        "                          right_index=True)\\\n",
        "                   .reset_index().set_index(['Date', 'index']).unstack().stack()\n",
        "\n",
        "        temp_df.index.names = ['date', 'ticker']\n",
        "\n",
        "        temp_df['weighted_return'] = temp_df['return']*temp_df['weight']\n",
        "\n",
        "        temp_df = temp_df.groupby(level=0)['weighted_return'].sum().to_frame('Strategy Return')\n",
        "\n",
        "        portfolio_df = pd.concat([portfolio_df, temp_df], axis=0)\n",
        "\n",
        "    except Exception as e:\n",
        "        print(e)\n",
        "\n",
        "portfolio_df = portfolio_df.drop_duplicates()\n",
        "\n",
        "portfolio_df"
      ],
      "metadata": {
        "colab": {
          "base_uri": "https://localhost:8080/",
          "height": 1000
        },
        "id": "OkpQdFoWUEk-",
        "outputId": "f31cc171-5c62-476a-cffa-d4311eb38a95"
      },
      "execution_count": 122,
      "outputs": [
        {
          "output_type": "stream",
          "name": "stdout",
          "text": [
            "Max Sharpe Optimization failed for 2018-05-01, Continuing with Equal-Weights\n",
            "\"None of ['index'] are in the columns\"\n",
            "\"None of ['index'] are in the columns\"\n",
            "\"None of ['index'] are in the columns\"\n",
            "\"None of ['index'] are in the columns\"\n",
            "\"None of ['index'] are in the columns\"\n",
            "\"None of ['index'] are in the columns\"\n",
            "\"None of ['index'] are in the columns\"\n",
            "\"None of ['index'] are in the columns\"\n",
            "Max Sharpe Optimization failed for 2019-01-01, Continuing with Equal-Weights\n",
            "\"None of ['index'] are in the columns\"\n",
            "\"None of ['index'] are in the columns\"\n",
            "\"None of ['index'] are in the columns\"\n",
            "\"None of ['index'] are in the columns\"\n",
            "\"None of ['index'] are in the columns\"\n",
            "\"None of ['index'] are in the columns\"\n",
            "\"None of ['index'] are in the columns\"\n",
            "\"None of ['index'] are in the columns\"\n",
            "\"None of ['index'] are in the columns\"\n",
            "\"None of ['index'] are in the columns\"\n",
            "\"None of ['index'] are in the columns\"\n",
            "\"None of ['index'] are in the columns\"\n",
            "\"None of ['index'] are in the columns\"\n",
            "\"None of ['index'] are in the columns\"\n",
            "Max Sharpe Optimization failed for 2020-03-01, Continuing with Equal-Weights\n",
            "\"None of ['index'] are in the columns\"\n",
            "Max Sharpe Optimization failed for 2020-04-01, Continuing with Equal-Weights\n",
            "\"None of ['index'] are in the columns\"\n",
            "\"None of ['index'] are in the columns\"\n",
            "\"None of ['index'] are in the columns\"\n",
            "\"None of ['index'] are in the columns\"\n",
            "\"None of ['index'] are in the columns\"\n",
            "\"None of ['index'] are in the columns\"\n",
            "\"None of ['index'] are in the columns\"\n",
            "\"None of ['index'] are in the columns\"\n",
            "\"None of ['index'] are in the columns\"\n",
            "\"None of ['index'] are in the columns\"\n",
            "Max Sharpe Optimization failed for 2021-02-01, Continuing with Equal-Weights\n",
            "\"None of ['index'] are in the columns\"\n",
            "\"None of ['index'] are in the columns\"\n",
            "\"None of ['index'] are in the columns\"\n",
            "\"None of ['index'] are in the columns\"\n",
            "\"None of ['index'] are in the columns\"\n",
            "\"None of ['index'] are in the columns\"\n",
            "\"None of ['index'] are in the columns\"\n",
            "\"None of ['index'] are in the columns\"\n",
            "Max Sharpe Optimization failed for 2021-10-01, Continuing with Equal-Weights\n",
            "\"None of ['index'] are in the columns\"\n",
            "\"None of ['index'] are in the columns\"\n",
            "\"None of ['index'] are in the columns\"\n",
            "\"None of ['index'] are in the columns\"\n",
            "\"None of ['index'] are in the columns\"\n",
            "\"None of ['index'] are in the columns\"\n",
            "\"None of ['index'] are in the columns\"\n",
            "\"None of ['index'] are in the columns\"\n",
            "\"None of ['index'] are in the columns\"\n",
            "\"None of ['index'] are in the columns\"\n",
            "\"None of ['index'] are in the columns\"\n",
            "Max Sharpe Optimization failed for 2022-09-01, Continuing with Equal-Weights\n",
            "\"None of ['index'] are in the columns\"\n",
            "Max Sharpe Optimization failed for 2022-10-01, Continuing with Equal-Weights\n",
            "\"None of ['index'] are in the columns\"\n",
            "\"None of ['index'] are in the columns\"\n",
            "\"None of ['index'] are in the columns\"\n",
            "\"None of ['index'] are in the columns\"\n",
            "\"None of ['index'] are in the columns\"\n",
            "\"None of ['index'] are in the columns\"\n",
            "\"None of ['index'] are in the columns\"\n",
            "\"None of ['index'] are in the columns\"\n",
            "\"None of ['index'] are in the columns\"\n",
            "\"None of ['index'] are in the columns\"\n",
            "\"None of ['index'] are in the columns\"\n",
            "\"None of ['index'] are in the columns\"\n",
            "\"None of ['index'] are in the columns\"\n",
            "Max Sharpe Optimization failed for 2023-11-01, Continuing with Equal-Weights\n",
            "\"None of ['index'] are in the columns\"\n",
            "\"None of ['index'] are in the columns\"\n",
            "\"None of ['index'] are in the columns\"\n",
            "\"None of ['index'] are in the columns\"\n",
            "\"None of ['index'] are in the columns\"\n",
            "\"None of ['index'] are in the columns\"\n"
          ]
        },
        {
          "output_type": "execute_result",
          "data": {
            "text/plain": [
              "Empty DataFrame\n",
              "Columns: []\n",
              "Index: []"
            ],
            "text/html": [
              "\n",
              "  <div id=\"df-b92c30df-0087-45f2-81e8-bd0a04da57f6\" class=\"colab-df-container\">\n",
              "    <div>\n",
              "<style scoped>\n",
              "    .dataframe tbody tr th:only-of-type {\n",
              "        vertical-align: middle;\n",
              "    }\n",
              "\n",
              "    .dataframe tbody tr th {\n",
              "        vertical-align: top;\n",
              "    }\n",
              "\n",
              "    .dataframe thead th {\n",
              "        text-align: right;\n",
              "    }\n",
              "</style>\n",
              "<table border=\"1\" class=\"dataframe\">\n",
              "  <thead>\n",
              "    <tr style=\"text-align: right;\">\n",
              "      <th></th>\n",
              "    </tr>\n",
              "  </thead>\n",
              "  <tbody>\n",
              "  </tbody>\n",
              "</table>\n",
              "</div>\n",
              "    <div class=\"colab-df-buttons\">\n",
              "\n",
              "  <div class=\"colab-df-container\">\n",
              "    <button class=\"colab-df-convert\" onclick=\"convertToInteractive('df-b92c30df-0087-45f2-81e8-bd0a04da57f6')\"\n",
              "            title=\"Convert this dataframe to an interactive table.\"\n",
              "            style=\"display:none;\">\n",
              "\n",
              "  <svg xmlns=\"http://www.w3.org/2000/svg\" height=\"24px\" viewBox=\"0 -960 960 960\">\n",
              "    <path d=\"M120-120v-720h720v720H120Zm60-500h600v-160H180v160Zm220 220h160v-160H400v160Zm0 220h160v-160H400v160ZM180-400h160v-160H180v160Zm440 0h160v-160H620v160ZM180-180h160v-160H180v160Zm440 0h160v-160H620v160Z\"/>\n",
              "  </svg>\n",
              "    </button>\n",
              "\n",
              "  <style>\n",
              "    .colab-df-container {\n",
              "      display:flex;\n",
              "      gap: 12px;\n",
              "    }\n",
              "\n",
              "    .colab-df-convert {\n",
              "      background-color: #E8F0FE;\n",
              "      border: none;\n",
              "      border-radius: 50%;\n",
              "      cursor: pointer;\n",
              "      display: none;\n",
              "      fill: #1967D2;\n",
              "      height: 32px;\n",
              "      padding: 0 0 0 0;\n",
              "      width: 32px;\n",
              "    }\n",
              "\n",
              "    .colab-df-convert:hover {\n",
              "      background-color: #E2EBFA;\n",
              "      box-shadow: 0px 1px 2px rgba(60, 64, 67, 0.3), 0px 1px 3px 1px rgba(60, 64, 67, 0.15);\n",
              "      fill: #174EA6;\n",
              "    }\n",
              "\n",
              "    .colab-df-buttons div {\n",
              "      margin-bottom: 4px;\n",
              "    }\n",
              "\n",
              "    [theme=dark] .colab-df-convert {\n",
              "      background-color: #3B4455;\n",
              "      fill: #D2E3FC;\n",
              "    }\n",
              "\n",
              "    [theme=dark] .colab-df-convert:hover {\n",
              "      background-color: #434B5C;\n",
              "      box-shadow: 0px 1px 3px 1px rgba(0, 0, 0, 0.15);\n",
              "      filter: drop-shadow(0px 1px 2px rgba(0, 0, 0, 0.3));\n",
              "      fill: #FFFFFF;\n",
              "    }\n",
              "  </style>\n",
              "\n",
              "    <script>\n",
              "      const buttonEl =\n",
              "        document.querySelector('#df-b92c30df-0087-45f2-81e8-bd0a04da57f6 button.colab-df-convert');\n",
              "      buttonEl.style.display =\n",
              "        google.colab.kernel.accessAllowed ? 'block' : 'none';\n",
              "\n",
              "      async function convertToInteractive(key) {\n",
              "        const element = document.querySelector('#df-b92c30df-0087-45f2-81e8-bd0a04da57f6');\n",
              "        const dataTable =\n",
              "          await google.colab.kernel.invokeFunction('convertToInteractive',\n",
              "                                                    [key], {});\n",
              "        if (!dataTable) return;\n",
              "\n",
              "        const docLinkHtml = 'Like what you see? Visit the ' +\n",
              "          '<a target=\"_blank\" href=https://colab.research.google.com/notebooks/data_table.ipynb>data table notebook</a>'\n",
              "          + ' to learn more about interactive tables.';\n",
              "        element.innerHTML = '';\n",
              "        dataTable['output_type'] = 'display_data';\n",
              "        await google.colab.output.renderOutput(dataTable, element);\n",
              "        const docLink = document.createElement('div');\n",
              "        docLink.innerHTML = docLinkHtml;\n",
              "        element.appendChild(docLink);\n",
              "      }\n",
              "    </script>\n",
              "  </div>\n",
              "\n",
              "\n",
              "  <div id=\"id_d810f856-9bc5-432f-a3d6-ff5d4525c96f\">\n",
              "    <style>\n",
              "      .colab-df-generate {\n",
              "        background-color: #E8F0FE;\n",
              "        border: none;\n",
              "        border-radius: 50%;\n",
              "        cursor: pointer;\n",
              "        display: none;\n",
              "        fill: #1967D2;\n",
              "        height: 32px;\n",
              "        padding: 0 0 0 0;\n",
              "        width: 32px;\n",
              "      }\n",
              "\n",
              "      .colab-df-generate:hover {\n",
              "        background-color: #E2EBFA;\n",
              "        box-shadow: 0px 1px 2px rgba(60, 64, 67, 0.3), 0px 1px 3px 1px rgba(60, 64, 67, 0.15);\n",
              "        fill: #174EA6;\n",
              "      }\n",
              "\n",
              "      [theme=dark] .colab-df-generate {\n",
              "        background-color: #3B4455;\n",
              "        fill: #D2E3FC;\n",
              "      }\n",
              "\n",
              "      [theme=dark] .colab-df-generate:hover {\n",
              "        background-color: #434B5C;\n",
              "        box-shadow: 0px 1px 3px 1px rgba(0, 0, 0, 0.15);\n",
              "        filter: drop-shadow(0px 1px 2px rgba(0, 0, 0, 0.3));\n",
              "        fill: #FFFFFF;\n",
              "      }\n",
              "    </style>\n",
              "    <button class=\"colab-df-generate\" onclick=\"generateWithVariable('portfolio_df')\"\n",
              "            title=\"Generate code using this dataframe.\"\n",
              "            style=\"display:none;\">\n",
              "\n",
              "  <svg xmlns=\"http://www.w3.org/2000/svg\" height=\"24px\"viewBox=\"0 0 24 24\"\n",
              "       width=\"24px\">\n",
              "    <path d=\"M7,19H8.4L18.45,9,17,7.55,7,17.6ZM5,21V16.75L18.45,3.32a2,2,0,0,1,2.83,0l1.4,1.43a1.91,1.91,0,0,1,.58,1.4,1.91,1.91,0,0,1-.58,1.4L9.25,21ZM18.45,9,17,7.55Zm-12,3A5.31,5.31,0,0,0,4.9,8.1,5.31,5.31,0,0,0,1,6.5,5.31,5.31,0,0,0,4.9,4.9,5.31,5.31,0,0,0,6.5,1,5.31,5.31,0,0,0,8.1,4.9,5.31,5.31,0,0,0,12,6.5,5.46,5.46,0,0,0,6.5,12Z\"/>\n",
              "  </svg>\n",
              "    </button>\n",
              "    <script>\n",
              "      (() => {\n",
              "      const buttonEl =\n",
              "        document.querySelector('#id_d810f856-9bc5-432f-a3d6-ff5d4525c96f button.colab-df-generate');\n",
              "      buttonEl.style.display =\n",
              "        google.colab.kernel.accessAllowed ? 'block' : 'none';\n",
              "\n",
              "      buttonEl.onclick = () => {\n",
              "        google.colab.notebook.generateWithVariable('portfolio_df');\n",
              "      }\n",
              "      })();\n",
              "    </script>\n",
              "  </div>\n",
              "\n",
              "    </div>\n",
              "  </div>\n"
            ],
            "application/vnd.google.colaboratory.intrinsic+json": {
              "type": "dataframe",
              "variable_name": "portfolio_df",
              "summary": "{\n  \"name\": \"portfolio_df\",\n  \"rows\": 0,\n  \"fields\": []\n}"
            }
          },
          "metadata": {},
          "execution_count": 122
        }
      ]
    },
    {
      "cell_type": "code",
      "source": [
        "spy = yf.download(tickers='SPY',\n",
        "                  start='2015-01-01',\n",
        "                  end=dt.date.today())\n",
        "\n",
        "spy_ret = np.log(spy[['Adj Close']]).diff().dropna().rename({'Adj Close':'SPY Buy&Hold'}, axis=1)\n",
        "\n",
        "portfolio_df = portfolio_df.merge(spy_ret,\n",
        "                                  left_index=True,\n",
        "                                  right_index=True)\n",
        "\n",
        "portfolio_df"
      ],
      "metadata": {
        "colab": {
          "base_uri": "https://localhost:8080/",
          "height": 106
        },
        "id": "n9Ss6rA8-05s",
        "outputId": "68015080-0cc3-40f3-aed8-6a1f847ce6f2"
      },
      "execution_count": 123,
      "outputs": [
        {
          "output_type": "stream",
          "name": "stderr",
          "text": [
            "\r[*********************100%%**********************]  1 of 1 completed\n"
          ]
        },
        {
          "output_type": "execute_result",
          "data": {
            "text/plain": [
              "Empty DataFrame\n",
              "Columns: [SPY Buy&Hold]\n",
              "Index: []"
            ],
            "text/html": [
              "\n",
              "  <div id=\"df-653fc121-d5ee-4d71-a7f3-201acf40f48c\" class=\"colab-df-container\">\n",
              "    <div>\n",
              "<style scoped>\n",
              "    .dataframe tbody tr th:only-of-type {\n",
              "        vertical-align: middle;\n",
              "    }\n",
              "\n",
              "    .dataframe tbody tr th {\n",
              "        vertical-align: top;\n",
              "    }\n",
              "\n",
              "    .dataframe thead th {\n",
              "        text-align: right;\n",
              "    }\n",
              "</style>\n",
              "<table border=\"1\" class=\"dataframe\">\n",
              "  <thead>\n",
              "    <tr style=\"text-align: right;\">\n",
              "      <th></th>\n",
              "      <th>SPY Buy&amp;Hold</th>\n",
              "    </tr>\n",
              "  </thead>\n",
              "  <tbody>\n",
              "  </tbody>\n",
              "</table>\n",
              "</div>\n",
              "    <div class=\"colab-df-buttons\">\n",
              "\n",
              "  <div class=\"colab-df-container\">\n",
              "    <button class=\"colab-df-convert\" onclick=\"convertToInteractive('df-653fc121-d5ee-4d71-a7f3-201acf40f48c')\"\n",
              "            title=\"Convert this dataframe to an interactive table.\"\n",
              "            style=\"display:none;\">\n",
              "\n",
              "  <svg xmlns=\"http://www.w3.org/2000/svg\" height=\"24px\" viewBox=\"0 -960 960 960\">\n",
              "    <path d=\"M120-120v-720h720v720H120Zm60-500h600v-160H180v160Zm220 220h160v-160H400v160Zm0 220h160v-160H400v160ZM180-400h160v-160H180v160Zm440 0h160v-160H620v160ZM180-180h160v-160H180v160Zm440 0h160v-160H620v160Z\"/>\n",
              "  </svg>\n",
              "    </button>\n",
              "\n",
              "  <style>\n",
              "    .colab-df-container {\n",
              "      display:flex;\n",
              "      gap: 12px;\n",
              "    }\n",
              "\n",
              "    .colab-df-convert {\n",
              "      background-color: #E8F0FE;\n",
              "      border: none;\n",
              "      border-radius: 50%;\n",
              "      cursor: pointer;\n",
              "      display: none;\n",
              "      fill: #1967D2;\n",
              "      height: 32px;\n",
              "      padding: 0 0 0 0;\n",
              "      width: 32px;\n",
              "    }\n",
              "\n",
              "    .colab-df-convert:hover {\n",
              "      background-color: #E2EBFA;\n",
              "      box-shadow: 0px 1px 2px rgba(60, 64, 67, 0.3), 0px 1px 3px 1px rgba(60, 64, 67, 0.15);\n",
              "      fill: #174EA6;\n",
              "    }\n",
              "\n",
              "    .colab-df-buttons div {\n",
              "      margin-bottom: 4px;\n",
              "    }\n",
              "\n",
              "    [theme=dark] .colab-df-convert {\n",
              "      background-color: #3B4455;\n",
              "      fill: #D2E3FC;\n",
              "    }\n",
              "\n",
              "    [theme=dark] .colab-df-convert:hover {\n",
              "      background-color: #434B5C;\n",
              "      box-shadow: 0px 1px 3px 1px rgba(0, 0, 0, 0.15);\n",
              "      filter: drop-shadow(0px 1px 2px rgba(0, 0, 0, 0.3));\n",
              "      fill: #FFFFFF;\n",
              "    }\n",
              "  </style>\n",
              "\n",
              "    <script>\n",
              "      const buttonEl =\n",
              "        document.querySelector('#df-653fc121-d5ee-4d71-a7f3-201acf40f48c button.colab-df-convert');\n",
              "      buttonEl.style.display =\n",
              "        google.colab.kernel.accessAllowed ? 'block' : 'none';\n",
              "\n",
              "      async function convertToInteractive(key) {\n",
              "        const element = document.querySelector('#df-653fc121-d5ee-4d71-a7f3-201acf40f48c');\n",
              "        const dataTable =\n",
              "          await google.colab.kernel.invokeFunction('convertToInteractive',\n",
              "                                                    [key], {});\n",
              "        if (!dataTable) return;\n",
              "\n",
              "        const docLinkHtml = 'Like what you see? Visit the ' +\n",
              "          '<a target=\"_blank\" href=https://colab.research.google.com/notebooks/data_table.ipynb>data table notebook</a>'\n",
              "          + ' to learn more about interactive tables.';\n",
              "        element.innerHTML = '';\n",
              "        dataTable['output_type'] = 'display_data';\n",
              "        await google.colab.output.renderOutput(dataTable, element);\n",
              "        const docLink = document.createElement('div');\n",
              "        docLink.innerHTML = docLinkHtml;\n",
              "        element.appendChild(docLink);\n",
              "      }\n",
              "    </script>\n",
              "  </div>\n",
              "\n",
              "\n",
              "  <div id=\"id_9903542b-86f3-4ec1-b642-a876c3e559e9\">\n",
              "    <style>\n",
              "      .colab-df-generate {\n",
              "        background-color: #E8F0FE;\n",
              "        border: none;\n",
              "        border-radius: 50%;\n",
              "        cursor: pointer;\n",
              "        display: none;\n",
              "        fill: #1967D2;\n",
              "        height: 32px;\n",
              "        padding: 0 0 0 0;\n",
              "        width: 32px;\n",
              "      }\n",
              "\n",
              "      .colab-df-generate:hover {\n",
              "        background-color: #E2EBFA;\n",
              "        box-shadow: 0px 1px 2px rgba(60, 64, 67, 0.3), 0px 1px 3px 1px rgba(60, 64, 67, 0.15);\n",
              "        fill: #174EA6;\n",
              "      }\n",
              "\n",
              "      [theme=dark] .colab-df-generate {\n",
              "        background-color: #3B4455;\n",
              "        fill: #D2E3FC;\n",
              "      }\n",
              "\n",
              "      [theme=dark] .colab-df-generate:hover {\n",
              "        background-color: #434B5C;\n",
              "        box-shadow: 0px 1px 3px 1px rgba(0, 0, 0, 0.15);\n",
              "        filter: drop-shadow(0px 1px 2px rgba(0, 0, 0, 0.3));\n",
              "        fill: #FFFFFF;\n",
              "      }\n",
              "    </style>\n",
              "    <button class=\"colab-df-generate\" onclick=\"generateWithVariable('portfolio_df')\"\n",
              "            title=\"Generate code using this dataframe.\"\n",
              "            style=\"display:none;\">\n",
              "\n",
              "  <svg xmlns=\"http://www.w3.org/2000/svg\" height=\"24px\"viewBox=\"0 0 24 24\"\n",
              "       width=\"24px\">\n",
              "    <path d=\"M7,19H8.4L18.45,9,17,7.55,7,17.6ZM5,21V16.75L18.45,3.32a2,2,0,0,1,2.83,0l1.4,1.43a1.91,1.91,0,0,1,.58,1.4,1.91,1.91,0,0,1-.58,1.4L9.25,21ZM18.45,9,17,7.55Zm-12,3A5.31,5.31,0,0,0,4.9,8.1,5.31,5.31,0,0,0,1,6.5,5.31,5.31,0,0,0,4.9,4.9,5.31,5.31,0,0,0,6.5,1,5.31,5.31,0,0,0,8.1,4.9,5.31,5.31,0,0,0,12,6.5,5.46,5.46,0,0,0,6.5,12Z\"/>\n",
              "  </svg>\n",
              "    </button>\n",
              "    <script>\n",
              "      (() => {\n",
              "      const buttonEl =\n",
              "        document.querySelector('#id_9903542b-86f3-4ec1-b642-a876c3e559e9 button.colab-df-generate');\n",
              "      buttonEl.style.display =\n",
              "        google.colab.kernel.accessAllowed ? 'block' : 'none';\n",
              "\n",
              "      buttonEl.onclick = () => {\n",
              "        google.colab.notebook.generateWithVariable('portfolio_df');\n",
              "      }\n",
              "      })();\n",
              "    </script>\n",
              "  </div>\n",
              "\n",
              "    </div>\n",
              "  </div>\n"
            ],
            "application/vnd.google.colaboratory.intrinsic+json": {
              "type": "dataframe",
              "variable_name": "portfolio_df",
              "summary": "{\n  \"name\": \"portfolio_df\",\n  \"rows\": 0,\n  \"fields\": [\n    {\n      \"column\": \"SPY Buy&Hold\",\n      \"properties\": {\n        \"dtype\": \"number\",\n        \"std\": null,\n        \"min\": null,\n        \"max\": null,\n        \"num_unique_values\": 0,\n        \"samples\": [],\n        \"semantic_type\": \"\",\n        \"description\": \"\"\n      }\n    }\n  ]\n}"
            }
          },
          "metadata": {},
          "execution_count": 123
        }
      ]
    },
    {
      "cell_type": "code",
      "source": [
        "import matplotlib.ticker as mtick\n",
        "\n",
        "plt.style.use('ggplot')\n",
        "\n",
        "portfolio_cumulative_return = np.exp(np.log1p(portfolio_df).cumsum())-1\n",
        "\n",
        "portfolio_cumulative_return[:'2023-11-01'].plot(figsize=(16,6))\n",
        "\n",
        "plt.title('Unsupervised Learning Trading Strategy Returns Over Time')\n",
        "\n",
        "plt.gca().yaxis.set_major_formatter(mtick.PercentFormatter(1))\n",
        "\n",
        "plt.ylabel('Return')\n",
        "\n",
        "plt.show()"
      ],
      "metadata": {
        "colab": {
          "base_uri": "https://localhost:8080/",
          "height": 373
        },
        "id": "Y8bw8Pq6_EdM",
        "outputId": "29dc8886-222a-42a8-ed0a-3dc6cd5058e7"
      },
      "execution_count": 127,
      "outputs": [
        {
          "output_type": "error",
          "ename": "TypeError",
          "evalue": "cannot do slice indexing on RangeIndex with these indexers [2023-11-01] of type str",
          "traceback": [
            "\u001b[0;31m---------------------------------------------------------------------------\u001b[0m",
            "\u001b[0;31mTypeError\u001b[0m                                 Traceback (most recent call last)",
            "\u001b[0;32m<ipython-input-127-35c59946e905>\u001b[0m in \u001b[0;36m<cell line: 7>\u001b[0;34m()\u001b[0m\n\u001b[1;32m      5\u001b[0m \u001b[0mportfolio_cumulative_return\u001b[0m \u001b[0;34m=\u001b[0m \u001b[0mnp\u001b[0m\u001b[0;34m.\u001b[0m\u001b[0mexp\u001b[0m\u001b[0;34m(\u001b[0m\u001b[0mnp\u001b[0m\u001b[0;34m.\u001b[0m\u001b[0mlog1p\u001b[0m\u001b[0;34m(\u001b[0m\u001b[0mportfolio_df\u001b[0m\u001b[0;34m)\u001b[0m\u001b[0;34m.\u001b[0m\u001b[0mcumsum\u001b[0m\u001b[0;34m(\u001b[0m\u001b[0;34m)\u001b[0m\u001b[0;34m)\u001b[0m\u001b[0;34m-\u001b[0m\u001b[0;36m1\u001b[0m\u001b[0;34m\u001b[0m\u001b[0;34m\u001b[0m\u001b[0m\n\u001b[1;32m      6\u001b[0m \u001b[0;34m\u001b[0m\u001b[0m\n\u001b[0;32m----> 7\u001b[0;31m \u001b[0mportfolio_cumulative_return\u001b[0m\u001b[0;34m[\u001b[0m\u001b[0;34m:\u001b[0m\u001b[0;34m'2023-11-01'\u001b[0m\u001b[0;34m]\u001b[0m\u001b[0;34m.\u001b[0m\u001b[0mplot\u001b[0m\u001b[0;34m(\u001b[0m\u001b[0mfigsize\u001b[0m\u001b[0;34m=\u001b[0m\u001b[0;34m(\u001b[0m\u001b[0;36m16\u001b[0m\u001b[0;34m,\u001b[0m\u001b[0;36m6\u001b[0m\u001b[0;34m)\u001b[0m\u001b[0;34m)\u001b[0m\u001b[0;34m\u001b[0m\u001b[0;34m\u001b[0m\u001b[0m\n\u001b[0m\u001b[1;32m      8\u001b[0m \u001b[0;34m\u001b[0m\u001b[0m\n\u001b[1;32m      9\u001b[0m \u001b[0mplt\u001b[0m\u001b[0;34m.\u001b[0m\u001b[0mtitle\u001b[0m\u001b[0;34m(\u001b[0m\u001b[0;34m'Unsupervised Learning Trading Strategy Returns Over Time'\u001b[0m\u001b[0;34m)\u001b[0m\u001b[0;34m\u001b[0m\u001b[0;34m\u001b[0m\u001b[0m\n",
            "\u001b[0;32m/usr/local/lib/python3.10/dist-packages/pandas/core/frame.py\u001b[0m in \u001b[0;36m__getitem__\u001b[0;34m(self, key)\u001b[0m\n\u001b[1;32m   3733\u001b[0m         \u001b[0;31m# Do we have a slicer (on rows)?\u001b[0m\u001b[0;34m\u001b[0m\u001b[0;34m\u001b[0m\u001b[0m\n\u001b[1;32m   3734\u001b[0m         \u001b[0;32mif\u001b[0m \u001b[0misinstance\u001b[0m\u001b[0;34m(\u001b[0m\u001b[0mkey\u001b[0m\u001b[0;34m,\u001b[0m \u001b[0mslice\u001b[0m\u001b[0;34m)\u001b[0m\u001b[0;34m:\u001b[0m\u001b[0;34m\u001b[0m\u001b[0;34m\u001b[0m\u001b[0m\n\u001b[0;32m-> 3735\u001b[0;31m             \u001b[0mindexer\u001b[0m \u001b[0;34m=\u001b[0m \u001b[0mself\u001b[0m\u001b[0;34m.\u001b[0m\u001b[0mindex\u001b[0m\u001b[0;34m.\u001b[0m\u001b[0m_convert_slice_indexer\u001b[0m\u001b[0;34m(\u001b[0m\u001b[0mkey\u001b[0m\u001b[0;34m,\u001b[0m \u001b[0mkind\u001b[0m\u001b[0;34m=\u001b[0m\u001b[0;34m\"getitem\"\u001b[0m\u001b[0;34m)\u001b[0m\u001b[0;34m\u001b[0m\u001b[0;34m\u001b[0m\u001b[0m\n\u001b[0m\u001b[1;32m   3736\u001b[0m             \u001b[0;32mif\u001b[0m \u001b[0misinstance\u001b[0m\u001b[0;34m(\u001b[0m\u001b[0mindexer\u001b[0m\u001b[0;34m,\u001b[0m \u001b[0mnp\u001b[0m\u001b[0;34m.\u001b[0m\u001b[0mndarray\u001b[0m\u001b[0;34m)\u001b[0m\u001b[0;34m:\u001b[0m\u001b[0;34m\u001b[0m\u001b[0;34m\u001b[0m\u001b[0m\n\u001b[1;32m   3737\u001b[0m                 \u001b[0;31m# reachable with DatetimeIndex\u001b[0m\u001b[0;34m\u001b[0m\u001b[0;34m\u001b[0m\u001b[0m\n",
            "\u001b[0;32m/usr/local/lib/python3.10/dist-packages/pandas/core/indexes/base.py\u001b[0m in \u001b[0;36m_convert_slice_indexer\u001b[0;34m(self, key, kind)\u001b[0m\n\u001b[1;32m   4100\u001b[0m                 \u001b[0;31m# Note: these checks are redundant if we know is_index_slice\u001b[0m\u001b[0;34m\u001b[0m\u001b[0;34m\u001b[0m\u001b[0m\n\u001b[1;32m   4101\u001b[0m                 \u001b[0mself\u001b[0m\u001b[0;34m.\u001b[0m\u001b[0m_validate_indexer\u001b[0m\u001b[0;34m(\u001b[0m\u001b[0;34m\"slice\"\u001b[0m\u001b[0;34m,\u001b[0m \u001b[0mkey\u001b[0m\u001b[0;34m.\u001b[0m\u001b[0mstart\u001b[0m\u001b[0;34m,\u001b[0m \u001b[0;34m\"getitem\"\u001b[0m\u001b[0;34m)\u001b[0m\u001b[0;34m\u001b[0m\u001b[0;34m\u001b[0m\u001b[0m\n\u001b[0;32m-> 4102\u001b[0;31m                 \u001b[0mself\u001b[0m\u001b[0;34m.\u001b[0m\u001b[0m_validate_indexer\u001b[0m\u001b[0;34m(\u001b[0m\u001b[0;34m\"slice\"\u001b[0m\u001b[0;34m,\u001b[0m \u001b[0mkey\u001b[0m\u001b[0;34m.\u001b[0m\u001b[0mstop\u001b[0m\u001b[0;34m,\u001b[0m \u001b[0;34m\"getitem\"\u001b[0m\u001b[0;34m)\u001b[0m\u001b[0;34m\u001b[0m\u001b[0;34m\u001b[0m\u001b[0m\n\u001b[0m\u001b[1;32m   4103\u001b[0m                 \u001b[0mself\u001b[0m\u001b[0;34m.\u001b[0m\u001b[0m_validate_indexer\u001b[0m\u001b[0;34m(\u001b[0m\u001b[0;34m\"slice\"\u001b[0m\u001b[0;34m,\u001b[0m \u001b[0mkey\u001b[0m\u001b[0;34m.\u001b[0m\u001b[0mstep\u001b[0m\u001b[0;34m,\u001b[0m \u001b[0;34m\"getitem\"\u001b[0m\u001b[0;34m)\u001b[0m\u001b[0;34m\u001b[0m\u001b[0;34m\u001b[0m\u001b[0m\n\u001b[1;32m   4104\u001b[0m                 \u001b[0;32mreturn\u001b[0m \u001b[0mkey\u001b[0m\u001b[0;34m\u001b[0m\u001b[0;34m\u001b[0m\u001b[0m\n",
            "\u001b[0;32m/usr/local/lib/python3.10/dist-packages/pandas/core/indexes/base.py\u001b[0m in \u001b[0;36m_validate_indexer\u001b[0;34m(self, form, key, kind)\u001b[0m\n\u001b[1;32m   6374\u001b[0m \u001b[0;34m\u001b[0m\u001b[0m\n\u001b[1;32m   6375\u001b[0m         \u001b[0;32mif\u001b[0m \u001b[0mkey\u001b[0m \u001b[0;32mis\u001b[0m \u001b[0;32mnot\u001b[0m \u001b[0;32mNone\u001b[0m \u001b[0;32mand\u001b[0m \u001b[0;32mnot\u001b[0m \u001b[0mis_integer\u001b[0m\u001b[0;34m(\u001b[0m\u001b[0mkey\u001b[0m\u001b[0;34m)\u001b[0m\u001b[0;34m:\u001b[0m\u001b[0;34m\u001b[0m\u001b[0;34m\u001b[0m\u001b[0m\n\u001b[0;32m-> 6376\u001b[0;31m             \u001b[0mself\u001b[0m\u001b[0;34m.\u001b[0m\u001b[0m_raise_invalid_indexer\u001b[0m\u001b[0;34m(\u001b[0m\u001b[0mform\u001b[0m\u001b[0;34m,\u001b[0m \u001b[0mkey\u001b[0m\u001b[0;34m)\u001b[0m\u001b[0;34m\u001b[0m\u001b[0;34m\u001b[0m\u001b[0m\n\u001b[0m\u001b[1;32m   6377\u001b[0m \u001b[0;34m\u001b[0m\u001b[0m\n\u001b[1;32m   6378\u001b[0m     \u001b[0;32mdef\u001b[0m \u001b[0m_maybe_cast_slice_bound\u001b[0m\u001b[0;34m(\u001b[0m\u001b[0mself\u001b[0m\u001b[0;34m,\u001b[0m \u001b[0mlabel\u001b[0m\u001b[0;34m,\u001b[0m \u001b[0mside\u001b[0m\u001b[0;34m:\u001b[0m \u001b[0mstr_t\u001b[0m\u001b[0;34m)\u001b[0m\u001b[0;34m:\u001b[0m\u001b[0;34m\u001b[0m\u001b[0;34m\u001b[0m\u001b[0m\n",
            "\u001b[0;32m/usr/local/lib/python3.10/dist-packages/pandas/core/indexes/base.py\u001b[0m in \u001b[0;36m_raise_invalid_indexer\u001b[0;34m(self, form, key, reraise)\u001b[0m\n\u001b[1;32m   4150\u001b[0m         \u001b[0;32mif\u001b[0m \u001b[0mreraise\u001b[0m \u001b[0;32mis\u001b[0m \u001b[0;32mnot\u001b[0m \u001b[0mlib\u001b[0m\u001b[0;34m.\u001b[0m\u001b[0mno_default\u001b[0m\u001b[0;34m:\u001b[0m\u001b[0;34m\u001b[0m\u001b[0;34m\u001b[0m\u001b[0m\n\u001b[1;32m   4151\u001b[0m             \u001b[0;32mraise\u001b[0m \u001b[0mTypeError\u001b[0m\u001b[0;34m(\u001b[0m\u001b[0mmsg\u001b[0m\u001b[0;34m)\u001b[0m \u001b[0;32mfrom\u001b[0m \u001b[0mreraise\u001b[0m\u001b[0;34m\u001b[0m\u001b[0;34m\u001b[0m\u001b[0m\n\u001b[0;32m-> 4152\u001b[0;31m         \u001b[0;32mraise\u001b[0m \u001b[0mTypeError\u001b[0m\u001b[0;34m(\u001b[0m\u001b[0mmsg\u001b[0m\u001b[0;34m)\u001b[0m\u001b[0;34m\u001b[0m\u001b[0;34m\u001b[0m\u001b[0m\n\u001b[0m\u001b[1;32m   4153\u001b[0m \u001b[0;34m\u001b[0m\u001b[0m\n\u001b[1;32m   4154\u001b[0m     \u001b[0;31m# --------------------------------------------------------------------\u001b[0m\u001b[0;34m\u001b[0m\u001b[0;34m\u001b[0m\u001b[0m\n",
            "\u001b[0;31mTypeError\u001b[0m: cannot do slice indexing on RangeIndex with these indexers [2023-11-01] of type str"
          ]
        }
      ]
    },
    {
      "cell_type": "code",
      "source": [],
      "metadata": {
        "id": "9lRIMmnPhCS4"
      },
      "execution_count": null,
      "outputs": []
    }
  ]
}